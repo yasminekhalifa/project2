{
 "cells": [
  {
   "cell_type": "code",
   "execution_count": null,
   "metadata": {},
   "outputs": [],
   "source": [
    "import pandas as pd\n",
    "from sodapy import Socrata\n",
    "import numpy as np\n",
    "import requests\n",
    "import time\n",
    "import csv\n",
    "import json"
   ]
  },
  {
   "cell_type": "code",
   "execution_count": null,
   "metadata": {},
   "outputs": [],
   "source": [
    "client = Socrata(\"data.melbourne.vic.gov.au\", None)\n",
    "# First 2000 results, returned as JSON from API / converted to Python list of\n",
    "# dictionaries by sodapy.\n",
    "results = client.get(\"4n3a-s6rn\", limit=50000)\n",
    "# Convert to pandas DataFrame\n",
    "historic_df = pd.DataFrame.from_records(results)\n",
    "historic_df"
   ]
  },
  {
   "cell_type": "code",
   "execution_count": null,
   "metadata": {},
   "outputs": [],
   "source": [
    "historic_df = historic_df[[\"bayid\", \"arrivaltime\", \"departuretime\", \"durationminutes\", \"areaname\"]]\n",
    "historic_df"
   ]
  },
  {
   "cell_type": "code",
   "execution_count": null,
   "metadata": {},
   "outputs": [],
   "source": [
    "historic_df['bayid'] = historic_df['bayid'].astype(int)"
   ]
  },
  {
   "cell_type": "code",
   "execution_count": null,
   "metadata": {},
   "outputs": [],
   "source": [
    "historic_df.dtypes"
   ]
  },
  {
   "cell_type": "code",
   "execution_count": null,
   "metadata": {},
   "outputs": [],
   "source": [
    "historic_df.rename(columns = {'bayid':'bay_id'}, inplace = True) \n",
    "historic_df"
   ]
  },
  {
   "cell_type": "code",
   "execution_count": null,
   "metadata": {},
   "outputs": [],
   "source": [
    "client = Socrata(\"data.melbourne.vic.gov.au\", None)\n",
    "# First 2000 results, returned as JSON from API / converted to Python list of\n",
    "# dictionaries by sodapy.\n",
    "results = client.get(\"vh2v-4nfs\", limit=50000)\n",
    "# Convert to pandas DataFrame\n",
    "live_df = pd.DataFrame.from_records(results)\n",
    "live_df"
   ]
  },
  {
   "cell_type": "code",
   "execution_count": null,
   "metadata": {},
   "outputs": [],
   "source": [
    "live_df.drop_duplicates(\"bay_id\", inplace=True)\n",
    "live_df"
   ]
  },
  {
   "cell_type": "code",
   "execution_count": null,
   "metadata": {},
   "outputs": [],
   "source": [
    "new_df = live_df[[\"bay_id\", \"lat\", \"lon\"]]\n",
    "new_df"
   ]
  },
  {
   "cell_type": "code",
   "execution_count": null,
   "metadata": {},
   "outputs": [],
   "source": [
    "new_df.dtypes"
   ]
  },
  {
   "cell_type": "code",
   "execution_count": null,
   "metadata": {},
   "outputs": [],
   "source": [
    "new_df['bay_id'] = new_df['bay_id'].astype(int)"
   ]
  },
  {
   "cell_type": "code",
   "execution_count": null,
   "metadata": {},
   "outputs": [],
   "source": [
    "df_merge_col = pd.merge(historic_df, new_df, how='right', on='bay_id')\n",
    "df_merge_col"
   ]
  },
  {
   "cell_type": "code",
   "execution_count": null,
   "metadata": {},
   "outputs": [],
   "source": [
    "df_merge_col.drop_duplicates(\"bay_id\", inplace=True)\n",
    "df_merge_col"
   ]
  },
  {
   "cell_type": "code",
   "execution_count": null,
   "metadata": {},
   "outputs": [],
   "source": [
    "df_merge_col = df_merge_col.dropna(subset = [\"areaname\"])\n",
    "df_merge_col"
   ]
  },
  {
   "cell_type": "code",
   "execution_count": null,
   "metadata": {},
   "outputs": [],
   "source": [
    "# Converting columns in the dataframe to separate tables to be saved as csv \n",
    "def convert_column_to_fk(df, column, output_dir):\n",
    "    values = sorted(list(df[column].unique()))\n",
    "    ids = range(1, len(values) + 1)    \n",
    "    fk_df = pd.DataFrame(values, index = ids).reset_index()\n",
    "    fk_df.columns = [\"id\", column]\n",
    "    fk_df.to_csv(f\"{output_dir}/{column}.csv\", index = False)\n",
    "    df[column] = df[column].replace(dict(zip(values, ids)))\n",
    "    df = df.rename(columns = {column: f\"{column}_id\"})\n",
    "    return df"
   ]
  },
  {
   "cell_type": "code",
   "execution_count": null,
   "metadata": {},
   "outputs": [],
   "source": [
    "df_merge_col['areaname'] = df_merge_col['areaname'].astype(str)"
   ]
  },
  {
   "cell_type": "code",
   "execution_count": null,
   "metadata": {},
   "outputs": [],
   "source": [
    "convert_column_to_fk(df_merge_col,\"areaname\",\"output\")"
   ]
  },
  {
   "cell_type": "code",
   "execution_count": null,
   "metadata": {},
   "outputs": [],
   "source": []
  }
 ],
 "metadata": {
  "kernelspec": {
   "display_name": "Python 3",
   "language": "python",
   "name": "python3"
  },
  "language_info": {
   "codemirror_mode": {
    "name": "ipython",
    "version": 3
   },
   "file_extension": ".py",
   "mimetype": "text/x-python",
   "name": "python",
   "nbconvert_exporter": "python",
   "pygments_lexer": "ipython3",
   "version": "3.7.6"
  }
 },
 "nbformat": 4,
 "nbformat_minor": 4
}
